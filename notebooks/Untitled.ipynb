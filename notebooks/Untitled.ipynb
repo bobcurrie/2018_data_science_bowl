{
 "cells": [
  {
   "cell_type": "code",
   "execution_count": 8,
   "metadata": {},
   "outputs": [],
   "source": [
    "import tensorflow as tf            \n",
    "import pandas as pd                 \n",
    "import numpy as np                                       \n",
    "import sklearn.model_selection     # For using KFold\n",
    "import keras.preprocessing.image   # For using image generation\n",
    "import datetime                    # To measure running time \n",
    "import skimage.transform           # For resizing images\n",
    "import skimage.morphology          # For using image labeling\n",
    "import cv2                         # To read and manipulate images\n",
    "import os                          # For filepath, directory handling\n",
    "import sys                         # System-specific parameters and functions\n",
    "import tqdm                        # Use smart progress meter\n",
    "import seaborn as sns              # For pairplots\n",
    "import matplotlib.pyplot as plt    # Python 2D plotting library\n",
    "import matplotlib.cm as cm         # Color map\n",
    "%matplotlib inline                  "
   ]
  },
  {
   "cell_type": "code",
   "execution_count": null,
   "metadata": {},
   "outputs": [],
   "source": []
  }
 ],
 "metadata": {
  "kernelspec": {
   "display_name": "Python 3",
   "language": "python",
   "name": "python3"
  },
  "language_info": {
   "codemirror_mode": {
    "name": "ipython",
    "version": 3
   },
   "file_extension": ".py",
   "mimetype": "text/x-python",
   "name": "python",
   "nbconvert_exporter": "python",
   "pygments_lexer": "ipython3",
   "version": "3.5.4"
  }
 },
 "nbformat": 4,
 "nbformat_minor": 2
}
